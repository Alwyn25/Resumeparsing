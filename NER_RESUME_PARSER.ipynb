{
  "cells": [
    {
      "cell_type": "markdown",
      "metadata": {
        "id": "view-in-github",
        "colab_type": "text"
      },
      "source": [
        "<a href=\"https://colab.research.google.com/github/Alwyn25/Resumeparsing/blob/main/NER_RESUME_PARSER.ipynb\" target=\"_parent\"><img src=\"https://colab.research.google.com/assets/colab-badge.svg\" alt=\"Open In Colab\"/></a>"
      ]
    },
    {
      "cell_type": "code",
      "execution_count": 2,
      "metadata": {
        "colab": {
          "base_uri": "https://localhost:8080/"
        },
        "id": "7kv3cf4v26eJ",
        "outputId": "82d57cda-f4ed-45da-e7ef-5ffa846bb76d"
      },
      "outputs": [
        {
          "output_type": "stream",
          "name": "stdout",
          "text": [
            "Looking in indexes: https://pypi.org/simple, https://us-python.pkg.dev/colab-wheels/public/simple/\n",
            "Collecting spacy_transformers\n",
            "  Downloading spacy_transformers-1.2.1-cp38-cp38-manylinux_2_17_x86_64.manylinux2014_x86_64.whl (193 kB)\n",
            "\u001b[2K     \u001b[90m━━━━━━━━━━━━━━━━━━━━━━━━━━━━━━━━━━━━━━━\u001b[0m \u001b[32m193.5/193.5 KB\u001b[0m \u001b[31m7.1 MB/s\u001b[0m eta \u001b[36m0:00:00\u001b[0m\n",
            "\u001b[?25hCollecting transformers<4.27.0,>=3.4.0\n",
            "  Downloading transformers-4.26.0-py3-none-any.whl (6.3 MB)\n",
            "\u001b[2K     \u001b[90m━━━━━━━━━━━━━━━━━━━━━━━━━━━━━━━━━━━━━━━━\u001b[0m \u001b[32m6.3/6.3 MB\u001b[0m \u001b[31m62.1 MB/s\u001b[0m eta \u001b[36m0:00:00\u001b[0m\n",
            "\u001b[?25hRequirement already satisfied: spacy<4.0.0,>=3.4.0 in /usr/local/lib/python3.8/dist-packages (from spacy_transformers) (3.4.4)\n",
            "Requirement already satisfied: numpy>=1.15.0 in /usr/local/lib/python3.8/dist-packages (from spacy_transformers) (1.21.6)\n",
            "Requirement already satisfied: torch>=1.6.0 in /usr/local/lib/python3.8/dist-packages (from spacy_transformers) (1.13.1+cu116)\n",
            "Collecting spacy-alignments<1.0.0,>=0.7.2\n",
            "  Downloading spacy_alignments-0.9.0-cp38-cp38-manylinux_2_17_x86_64.manylinux2014_x86_64.whl (1.2 MB)\n",
            "\u001b[2K     \u001b[90m━━━━━━━━━━━━━━━━━━━━━━━━━━━━━━━━━━━━━━━━\u001b[0m \u001b[32m1.2/1.2 MB\u001b[0m \u001b[31m59.3 MB/s\u001b[0m eta \u001b[36m0:00:00\u001b[0m\n",
            "\u001b[?25hRequirement already satisfied: srsly<3.0.0,>=2.4.0 in /usr/local/lib/python3.8/dist-packages (from spacy_transformers) (2.4.5)\n",
            "Requirement already satisfied: spacy-legacy<3.1.0,>=3.0.10 in /usr/local/lib/python3.8/dist-packages (from spacy<4.0.0,>=3.4.0->spacy_transformers) (3.0.11)\n",
            "Requirement already satisfied: spacy-loggers<2.0.0,>=1.0.0 in /usr/local/lib/python3.8/dist-packages (from spacy<4.0.0,>=3.4.0->spacy_transformers) (1.0.4)\n",
            "Requirement already satisfied: setuptools in /usr/local/lib/python3.8/dist-packages (from spacy<4.0.0,>=3.4.0->spacy_transformers) (57.4.0)\n",
            "Requirement already satisfied: smart-open<7.0.0,>=5.2.1 in /usr/local/lib/python3.8/dist-packages (from spacy<4.0.0,>=3.4.0->spacy_transformers) (6.3.0)\n",
            "Requirement already satisfied: preshed<3.1.0,>=3.0.2 in /usr/local/lib/python3.8/dist-packages (from spacy<4.0.0,>=3.4.0->spacy_transformers) (3.0.8)\n",
            "Requirement already satisfied: pathy>=0.3.5 in /usr/local/lib/python3.8/dist-packages (from spacy<4.0.0,>=3.4.0->spacy_transformers) (0.10.1)\n",
            "Requirement already satisfied: langcodes<4.0.0,>=3.2.0 in /usr/local/lib/python3.8/dist-packages (from spacy<4.0.0,>=3.4.0->spacy_transformers) (3.3.0)\n",
            "Requirement already satisfied: packaging>=20.0 in /usr/local/lib/python3.8/dist-packages (from spacy<4.0.0,>=3.4.0->spacy_transformers) (21.3)\n",
            "Requirement already satisfied: requests<3.0.0,>=2.13.0 in /usr/local/lib/python3.8/dist-packages (from spacy<4.0.0,>=3.4.0->spacy_transformers) (2.25.1)\n",
            "Requirement already satisfied: thinc<8.2.0,>=8.1.0 in /usr/local/lib/python3.8/dist-packages (from spacy<4.0.0,>=3.4.0->spacy_transformers) (8.1.6)\n",
            "Requirement already satisfied: tqdm<5.0.0,>=4.38.0 in /usr/local/lib/python3.8/dist-packages (from spacy<4.0.0,>=3.4.0->spacy_transformers) (4.64.1)\n",
            "Requirement already satisfied: cymem<2.1.0,>=2.0.2 in /usr/local/lib/python3.8/dist-packages (from spacy<4.0.0,>=3.4.0->spacy_transformers) (2.0.7)\n",
            "Requirement already satisfied: typer<0.8.0,>=0.3.0 in /usr/local/lib/python3.8/dist-packages (from spacy<4.0.0,>=3.4.0->spacy_transformers) (0.7.0)\n",
            "Requirement already satisfied: pydantic!=1.8,!=1.8.1,<1.11.0,>=1.7.4 in /usr/local/lib/python3.8/dist-packages (from spacy<4.0.0,>=3.4.0->spacy_transformers) (1.10.4)\n",
            "Requirement already satisfied: jinja2 in /usr/local/lib/python3.8/dist-packages (from spacy<4.0.0,>=3.4.0->spacy_transformers) (2.11.3)\n",
            "Requirement already satisfied: wasabi<1.1.0,>=0.9.1 in /usr/local/lib/python3.8/dist-packages (from spacy<4.0.0,>=3.4.0->spacy_transformers) (0.10.1)\n",
            "Requirement already satisfied: murmurhash<1.1.0,>=0.28.0 in /usr/local/lib/python3.8/dist-packages (from spacy<4.0.0,>=3.4.0->spacy_transformers) (1.0.9)\n",
            "Requirement already satisfied: catalogue<2.1.0,>=2.0.6 in /usr/local/lib/python3.8/dist-packages (from spacy<4.0.0,>=3.4.0->spacy_transformers) (2.0.8)\n",
            "Requirement already satisfied: typing-extensions in /usr/local/lib/python3.8/dist-packages (from torch>=1.6.0->spacy_transformers) (4.4.0)\n",
            "Collecting huggingface-hub<1.0,>=0.11.0\n",
            "  Downloading huggingface_hub-0.12.0-py3-none-any.whl (190 kB)\n",
            "\u001b[2K     \u001b[90m━━━━━━━━━━━━━━━━━━━━━━━━━━━━━━━━━━━━━━\u001b[0m \u001b[32m190.3/190.3 KB\u001b[0m \u001b[31m20.7 MB/s\u001b[0m eta \u001b[36m0:00:00\u001b[0m\n",
            "\u001b[?25hCollecting tokenizers!=0.11.3,<0.14,>=0.11.1\n",
            "  Downloading tokenizers-0.13.2-cp38-cp38-manylinux_2_17_x86_64.manylinux2014_x86_64.whl (7.6 MB)\n",
            "\u001b[2K     \u001b[90m━━━━━━━━━━━━━━━━━━━━━━━━━━━━━━━━━━━━━━━━\u001b[0m \u001b[32m7.6/7.6 MB\u001b[0m \u001b[31m70.2 MB/s\u001b[0m eta \u001b[36m0:00:00\u001b[0m\n",
            "\u001b[?25hRequirement already satisfied: regex!=2019.12.17 in /usr/local/lib/python3.8/dist-packages (from transformers<4.27.0,>=3.4.0->spacy_transformers) (2022.6.2)\n",
            "Requirement already satisfied: filelock in /usr/local/lib/python3.8/dist-packages (from transformers<4.27.0,>=3.4.0->spacy_transformers) (3.9.0)\n",
            "Requirement already satisfied: pyyaml>=5.1 in /usr/local/lib/python3.8/dist-packages (from transformers<4.27.0,>=3.4.0->spacy_transformers) (6.0)\n",
            "Requirement already satisfied: pyparsing!=3.0.5,>=2.0.2 in /usr/local/lib/python3.8/dist-packages (from packaging>=20.0->spacy<4.0.0,>=3.4.0->spacy_transformers) (3.0.9)\n",
            "Requirement already satisfied: urllib3<1.27,>=1.21.1 in /usr/local/lib/python3.8/dist-packages (from requests<3.0.0,>=2.13.0->spacy<4.0.0,>=3.4.0->spacy_transformers) (1.24.3)\n",
            "Requirement already satisfied: chardet<5,>=3.0.2 in /usr/local/lib/python3.8/dist-packages (from requests<3.0.0,>=2.13.0->spacy<4.0.0,>=3.4.0->spacy_transformers) (4.0.0)\n",
            "Requirement already satisfied: idna<3,>=2.5 in /usr/local/lib/python3.8/dist-packages (from requests<3.0.0,>=2.13.0->spacy<4.0.0,>=3.4.0->spacy_transformers) (2.10)\n",
            "Requirement already satisfied: certifi>=2017.4.17 in /usr/local/lib/python3.8/dist-packages (from requests<3.0.0,>=2.13.0->spacy<4.0.0,>=3.4.0->spacy_transformers) (2022.12.7)\n",
            "Requirement already satisfied: blis<0.8.0,>=0.7.8 in /usr/local/lib/python3.8/dist-packages (from thinc<8.2.0,>=8.1.0->spacy<4.0.0,>=3.4.0->spacy_transformers) (0.7.9)\n",
            "Requirement already satisfied: confection<1.0.0,>=0.0.1 in /usr/local/lib/python3.8/dist-packages (from thinc<8.2.0,>=8.1.0->spacy<4.0.0,>=3.4.0->spacy_transformers) (0.0.3)\n",
            "Requirement already satisfied: click<9.0.0,>=7.1.1 in /usr/local/lib/python3.8/dist-packages (from typer<0.8.0,>=0.3.0->spacy<4.0.0,>=3.4.0->spacy_transformers) (7.1.2)\n",
            "Requirement already satisfied: MarkupSafe>=0.23 in /usr/local/lib/python3.8/dist-packages (from jinja2->spacy<4.0.0,>=3.4.0->spacy_transformers) (2.0.1)\n",
            "Installing collected packages: tokenizers, spacy-alignments, huggingface-hub, transformers, spacy_transformers\n",
            "Successfully installed huggingface-hub-0.12.0 spacy-alignments-0.9.0 spacy_transformers-1.2.1 tokenizers-0.13.2 transformers-4.26.0\n",
            "Looking in indexes: https://pypi.org/simple, https://us-python.pkg.dev/colab-wheels/public/simple/\n",
            "Requirement already satisfied: spacy in /usr/local/lib/python3.8/dist-packages (3.4.4)\n",
            "Collecting spacy\n",
            "  Downloading spacy-3.5.0-cp38-cp38-manylinux_2_17_x86_64.manylinux2014_x86_64.whl (6.7 MB)\n",
            "\u001b[2K     \u001b[90m━━━━━━━━━━━━━━━━━━━━━━━━━━━━━━━━━━━━━━━━\u001b[0m \u001b[32m6.7/6.7 MB\u001b[0m \u001b[31m70.6 MB/s\u001b[0m eta \u001b[36m0:00:00\u001b[0m\n",
            "\u001b[?25hRequirement already satisfied: typer<0.8.0,>=0.3.0 in /usr/local/lib/python3.8/dist-packages (from spacy) (0.7.0)\n",
            "Requirement already satisfied: packaging>=20.0 in /usr/local/lib/python3.8/dist-packages (from spacy) (21.3)\n",
            "Requirement already satisfied: smart-open<7.0.0,>=5.2.1 in /usr/local/lib/python3.8/dist-packages (from spacy) (6.3.0)\n",
            "Requirement already satisfied: spacy-loggers<2.0.0,>=1.0.0 in /usr/local/lib/python3.8/dist-packages (from spacy) (1.0.4)\n",
            "Requirement already satisfied: catalogue<2.1.0,>=2.0.6 in /usr/local/lib/python3.8/dist-packages (from spacy) (2.0.8)\n",
            "Requirement already satisfied: tqdm<5.0.0,>=4.38.0 in /usr/local/lib/python3.8/dist-packages (from spacy) (4.64.1)\n",
            "Requirement already satisfied: langcodes<4.0.0,>=3.2.0 in /usr/local/lib/python3.8/dist-packages (from spacy) (3.3.0)\n",
            "Requirement already satisfied: setuptools in /usr/local/lib/python3.8/dist-packages (from spacy) (57.4.0)\n",
            "Requirement already satisfied: spacy-legacy<3.1.0,>=3.0.11 in /usr/local/lib/python3.8/dist-packages (from spacy) (3.0.11)\n",
            "Requirement already satisfied: cymem<2.1.0,>=2.0.2 in /usr/local/lib/python3.8/dist-packages (from spacy) (2.0.7)\n",
            "Requirement already satisfied: numpy>=1.15.0 in /usr/local/lib/python3.8/dist-packages (from spacy) (1.21.6)\n",
            "Requirement already satisfied: pathy>=0.10.0 in /usr/local/lib/python3.8/dist-packages (from spacy) (0.10.1)\n",
            "Requirement already satisfied: pydantic!=1.8,!=1.8.1,<1.11.0,>=1.7.4 in /usr/local/lib/python3.8/dist-packages (from spacy) (1.10.4)\n",
            "Requirement already satisfied: preshed<3.1.0,>=3.0.2 in /usr/local/lib/python3.8/dist-packages (from spacy) (3.0.8)\n",
            "Requirement already satisfied: thinc<8.2.0,>=8.1.0 in /usr/local/lib/python3.8/dist-packages (from spacy) (8.1.6)\n",
            "Requirement already satisfied: murmurhash<1.1.0,>=0.28.0 in /usr/local/lib/python3.8/dist-packages (from spacy) (1.0.9)\n",
            "Requirement already satisfied: srsly<3.0.0,>=2.4.3 in /usr/local/lib/python3.8/dist-packages (from spacy) (2.4.5)\n",
            "Requirement already satisfied: requests<3.0.0,>=2.13.0 in /usr/local/lib/python3.8/dist-packages (from spacy) (2.25.1)\n",
            "Requirement already satisfied: wasabi<1.2.0,>=0.9.1 in /usr/local/lib/python3.8/dist-packages (from spacy) (0.10.1)\n",
            "Requirement already satisfied: jinja2 in /usr/local/lib/python3.8/dist-packages (from spacy) (2.11.3)\n",
            "Requirement already satisfied: pyparsing!=3.0.5,>=2.0.2 in /usr/local/lib/python3.8/dist-packages (from packaging>=20.0->spacy) (3.0.9)\n",
            "Requirement already satisfied: typing-extensions>=4.2.0 in /usr/local/lib/python3.8/dist-packages (from pydantic!=1.8,!=1.8.1,<1.11.0,>=1.7.4->spacy) (4.4.0)\n",
            "Requirement already satisfied: chardet<5,>=3.0.2 in /usr/local/lib/python3.8/dist-packages (from requests<3.0.0,>=2.13.0->spacy) (4.0.0)\n",
            "Requirement already satisfied: idna<3,>=2.5 in /usr/local/lib/python3.8/dist-packages (from requests<3.0.0,>=2.13.0->spacy) (2.10)\n",
            "Requirement already satisfied: urllib3<1.27,>=1.21.1 in /usr/local/lib/python3.8/dist-packages (from requests<3.0.0,>=2.13.0->spacy) (1.24.3)\n",
            "Requirement already satisfied: certifi>=2017.4.17 in /usr/local/lib/python3.8/dist-packages (from requests<3.0.0,>=2.13.0->spacy) (2022.12.7)\n",
            "Requirement already satisfied: confection<1.0.0,>=0.0.1 in /usr/local/lib/python3.8/dist-packages (from thinc<8.2.0,>=8.1.0->spacy) (0.0.3)\n",
            "Requirement already satisfied: blis<0.8.0,>=0.7.8 in /usr/local/lib/python3.8/dist-packages (from thinc<8.2.0,>=8.1.0->spacy) (0.7.9)\n",
            "Requirement already satisfied: click<9.0.0,>=7.1.1 in /usr/local/lib/python3.8/dist-packages (from typer<0.8.0,>=0.3.0->spacy) (7.1.2)\n",
            "Requirement already satisfied: MarkupSafe>=0.23 in /usr/local/lib/python3.8/dist-packages (from jinja2->spacy) (2.0.1)\n",
            "Installing collected packages: spacy\n",
            "  Attempting uninstall: spacy\n",
            "    Found existing installation: spacy 3.4.4\n",
            "    Uninstalling spacy-3.4.4:\n",
            "      Successfully uninstalled spacy-3.4.4\n",
            "\u001b[31mERROR: pip's dependency resolver does not currently take into account all the packages that are installed. This behaviour is the source of the following dependency conflicts.\n",
            "en-core-web-sm 3.4.1 requires spacy<3.5.0,>=3.4.0, but you have spacy 3.5.0 which is incompatible.\u001b[0m\u001b[31m\n",
            "\u001b[0mSuccessfully installed spacy-3.5.0\n"
          ]
        }
      ],
      "source": [
        "!pip install spacy_transformers\n",
        "!pip install -U spacy"
      ]
    },
    {
      "cell_type": "code",
      "execution_count": 3,
      "metadata": {
        "id": "YD-ghrsxtLa-"
      },
      "outputs": [],
      "source": [
        "import spacy  # version 3.5.0\n",
        "from spacy.tokens import DocBin\n",
        "from tqdm import tqdm\n",
        "import json"
      ]
    },
    {
      "cell_type": "code",
      "execution_count": 4,
      "metadata": {
        "colab": {
          "base_uri": "https://localhost:8080/",
          "height": 35
        },
        "id": "3nLh7Dv-3dtn",
        "outputId": "179ffe36-2985-40bc-f55f-e02772c49d6e"
      },
      "outputs": [
        {
          "output_type": "execute_result",
          "data": {
            "text/plain": [
              "'3.5.0'"
            ],
            "application/vnd.google.colaboratory.intrinsic+json": {
              "type": "string"
            }
          },
          "metadata": {},
          "execution_count": 4
        }
      ],
      "source": [
        "spacy.__version__"
      ]
    },
    {
      "cell_type": "code",
      "execution_count": 5,
      "metadata": {
        "colab": {
          "base_uri": "https://localhost:8080/"
        },
        "id": "L6mr6lbD3fvF",
        "outputId": "3fff6989-2691-41b4-9ca3-6ac6f69754e0"
      },
      "outputs": [
        {
          "output_type": "stream",
          "name": "stdout",
          "text": [
            "Fri Jan 27 06:02:03 2023       \n",
            "+-----------------------------------------------------------------------------+\n",
            "| NVIDIA-SMI 510.47.03    Driver Version: 510.47.03    CUDA Version: 11.6     |\n",
            "|-------------------------------+----------------------+----------------------+\n",
            "| GPU  Name        Persistence-M| Bus-Id        Disp.A | Volatile Uncorr. ECC |\n",
            "| Fan  Temp  Perf  Pwr:Usage/Cap|         Memory-Usage | GPU-Util  Compute M. |\n",
            "|                               |                      |               MIG M. |\n",
            "|===============================+======================+======================|\n",
            "|   0  Tesla T4            Off  | 00000000:00:04.0 Off |                    0 |\n",
            "| N/A   62C    P0    31W /  70W |    334MiB / 15360MiB |      0%      Default |\n",
            "|                               |                      |                  N/A |\n",
            "+-------------------------------+----------------------+----------------------+\n",
            "                                                                               \n",
            "+-----------------------------------------------------------------------------+\n",
            "| Processes:                                                                  |\n",
            "|  GPU   GI   CI        PID   Type   Process name                  GPU Memory |\n",
            "|        ID   ID                                                   Usage      |\n",
            "|=============================================================================|\n",
            "|    0   N/A  N/A      2134      C                                     331MiB |\n",
            "+-----------------------------------------------------------------------------+\n"
          ]
        }
      ],
      "source": [
        "!nvidia-smi"
      ]
    },
    {
      "cell_type": "code",
      "execution_count": 6,
      "metadata": {
        "colab": {
          "base_uri": "https://localhost:8080/"
        },
        "id": "IWiTI-vx3idr",
        "outputId": "7401ebf7-d5de-4a0a-c87b-7eb1fac2678a"
      },
      "outputs": [
        {
          "output_type": "stream",
          "name": "stdout",
          "text": [
            "Cloning into 'Resumeparsing'...\n",
            "remote: Enumerating objects: 38, done.\u001b[K\n",
            "remote: Counting objects: 100% (38/38), done.\u001b[K\n",
            "remote: Compressing objects: 100% (36/36), done.\u001b[K\n",
            "remote: Total 38 (delta 6), reused 0 (delta 0), pack-reused 0\u001b[K\n",
            "Unpacking objects: 100% (38/38), 5.30 MiB | 7.16 MiB/s, done.\n"
          ]
        }
      ],
      "source": [
        "# !git clone https://github.com/laxmimerit/CV-Parsing-using-Spacy-3.git\n",
        "!git clone https://github.com/Alwyn25/Resumeparsing.git"
      ]
    },
    {
      "cell_type": "code",
      "execution_count": 7,
      "metadata": {
        "id": "Fw3s2gjp3lto"
      },
      "outputs": [],
      "source": [
        "cv_data = json.load(open('/content/Resumeparsing/data/training/train_data.json', 'r'))"
      ]
    },
    {
      "cell_type": "code",
      "execution_count": 8,
      "metadata": {
        "colab": {
          "base_uri": "https://localhost:8080/"
        },
        "id": "wuTh-8U03vvP",
        "outputId": "fafd140e-146b-4a95-849d-ff64992cf27d"
      },
      "outputs": [
        {
          "output_type": "execute_result",
          "data": {
            "text/plain": [
              "200"
            ]
          },
          "metadata": {},
          "execution_count": 8
        }
      ],
      "source": [
        "len(cv_data)"
      ]
    },
    {
      "cell_type": "code",
      "execution_count": 9,
      "metadata": {
        "colab": {
          "base_uri": "https://localhost:8080/"
        },
        "id": "j4nEjhZs31Gc",
        "outputId": "fc7a5fe7-054c-45f9-b8bf-2ae0cc32aacb"
      },
      "outputs": [
        {
          "output_type": "stream",
          "name": "stdout",
          "text": [
            "\u001b[38;5;2m✔ Auto-filled config with all values\u001b[0m\n",
            "\u001b[38;5;2m✔ Saved config\u001b[0m\n",
            "/content/Resumeparsing/data/training/config.cfg\n",
            "You can now add your data and train your pipeline:\n",
            "python -m spacy train config.cfg --paths.train ./train.spacy --paths.dev ./dev.spacy\n"
          ]
        }
      ],
      "source": [
        "!python -m spacy init fill-config /content/Resumeparsing/data/training/base_config.cfg  /content/Resumeparsing/data/training/config.cfg"
      ]
    },
    {
      "cell_type": "code",
      "execution_count": 10,
      "metadata": {
        "colab": {
          "base_uri": "https://localhost:8080/"
        },
        "id": "oCWPalSR3864",
        "outputId": "7edb49cf-6dfa-42c7-bbe8-38c31eaf1882"
      },
      "outputs": [
        {
          "output_type": "execute_result",
          "data": {
            "text/plain": [
              "['Govardhana K Senior Software Engineer  Bengaluru, Karnataka, Karnataka - Email me on Indeed: indeed.com/r/Govardhana-K/ b2de315d95905b68  Total IT experience 5 Years 6 Months Cloud Lending Solutions INC 4 Month • Salesforce Developer Oracle 5 Years 2 Month • Core Java Developer Languages Core Java, Go Lang Oracle PL-SQL programming, Sales Force Developer with APEX.  Designations & Promotions  Willing to relocate: Anywhere  WORK EXPERIENCE  Senior Software Engineer  Cloud Lending Solutions -  Bangalore, Karnataka -  January 2018 to Present  Present  Senior Consultant  Oracle -  Bangalore, Karnataka -  November 2016 to December 2017  Staff Consultant  Oracle -  Bangalore, Karnataka -  January 2014 to October 2016  Associate Consultant  Oracle -  Bangalore, Karnataka -  November 2012 to December 2013  EDUCATION  B.E in Computer Science Engineering  Adithya Institute of Technology -  Tamil Nadu  September 2008 to June 2012  https://www.indeed.com/r/Govardhana-K/b2de315d95905b68?isid=rex-download&ikw=download-top&co=IN https://www.indeed.com/r/Govardhana-K/b2de315d95905b68?isid=rex-download&ikw=download-top&co=IN   SKILLS  APEX. (Less than 1 year), Data Structures (3 years), FLEXCUBE (5 years), Oracle (5 years), Algorithms (3 years)  LINKS  https://www.linkedin.com/in/govardhana-k-61024944/  ADDITIONAL INFORMATION  Technical Proficiency:  Languages: Core Java, Go Lang, Data Structures & Algorithms, Oracle PL-SQL programming, Sales Force with APEX. Tools: RADTool, Jdeveloper, NetBeans, Eclipse, SQL developer, PL/SQL Developer, WinSCP, Putty Web Technologies: JavaScript, XML, HTML, Webservice  Operating Systems: Linux, Windows Version control system SVN & Git-Hub Databases: Oracle Middleware: Web logic, OC4J Product FLEXCUBE: Oracle FLEXCUBE Versions 10.x, 11.x and 12.x  https://www.linkedin.com/in/govardhana-k-61024944/',\n",
              " {'entities': [[1749, 1755, 'Companies worked at'],\n",
              "   [1696, 1702, 'Companies worked at'],\n",
              "   [1417, 1423, 'Companies worked at'],\n",
              "   [1356, 1793, 'Skills'],\n",
              "   [1209, 1215, 'Companies worked at'],\n",
              "   [1136, 1247, 'Skills'],\n",
              "   [928, 932, 'Graduation Year'],\n",
              "   [858, 889, 'College Name'],\n",
              "   [821, 856, 'Degree'],\n",
              "   [787, 791, 'Graduation Year'],\n",
              "   [744, 750, 'Companies worked at'],\n",
              "   [722, 742, 'Designation'],\n",
              "   [658, 664, 'Companies worked at'],\n",
              "   [640, 656, 'Designation'],\n",
              "   [574, 580, 'Companies worked at'],\n",
              "   [555, 572, 'Designation'],\n",
              "   [470, 493, 'Companies worked at'],\n",
              "   [444, 468, 'Designation'],\n",
              "   [308, 314, 'Companies worked at'],\n",
              "   [234, 240, 'Companies worked at'],\n",
              "   [175, 198, 'Companies worked at'],\n",
              "   [93, 136, 'Email Address'],\n",
              "   [39, 48, 'Location'],\n",
              "   [13, 37, 'Designation'],\n",
              "   [0, 12, 'Name']]}]"
            ]
          },
          "metadata": {},
          "execution_count": 10
        }
      ],
      "source": [
        "cv_data[0]"
      ]
    },
    {
      "cell_type": "code",
      "execution_count": 11,
      "metadata": {
        "id": "I5SOKfsq4Ccl"
      },
      "outputs": [],
      "source": [
        "def get_spacy_doc(file, data):\n",
        "  nlp = spacy.blank('en')\n",
        "  db = DocBin()\n",
        "\n",
        "  for text, annot in tqdm(data):\n",
        "    doc = nlp.make_doc(text)\n",
        "    annot = annot['entities']\n",
        "\n",
        "    ents = []\n",
        "    entity_indices = []\n",
        "\n",
        "    for start, end, label in annot:\n",
        "      skip_entity = False\n",
        "      for idx in range(start, end):\n",
        "        if idx in entity_indices:\n",
        "          skip_entity=True\n",
        "          break\n",
        "      if skip_entity==True:\n",
        "        continue\n",
        "\n",
        "      entity_indices = entity_indices + list(range(start, end))\n",
        "\n",
        "      try:\n",
        "        span = doc.char_span(start, end, label=label, alignment_mode='strict')\n",
        "      except:\n",
        "        continue\n",
        "\n",
        "      if span is None:\n",
        "        err_data = str([start, end]) + \"    \" + str(text) + \"\\n\"\n",
        "        file.write(err_data)\n",
        "\n",
        "      else:\n",
        "        ents.append(span)\n",
        "\n",
        "    try:\n",
        "      doc.ents = ents\n",
        "      db.add(doc)\n",
        "    except:\n",
        "      pass\n",
        "\n",
        "  return db\n",
        "      "
      ]
    },
    {
      "cell_type": "code",
      "execution_count": 12,
      "metadata": {
        "id": "pFiY7pox4FI0"
      },
      "outputs": [],
      "source": [
        "from sklearn.model_selection import train_test_split\n",
        "train, test = train_test_split(cv_data, test_size=0.2)"
      ]
    },
    {
      "cell_type": "code",
      "execution_count": 13,
      "metadata": {
        "colab": {
          "base_uri": "https://localhost:8080/"
        },
        "id": "-9ofZJiT4G0r",
        "outputId": "17e2560d-43f8-410c-9993-020a21be97dc"
      },
      "outputs": [
        {
          "output_type": "execute_result",
          "data": {
            "text/plain": [
              "(160, 40)"
            ]
          },
          "metadata": {},
          "execution_count": 13
        }
      ],
      "source": [
        "len(train), len(test)"
      ]
    },
    {
      "cell_type": "code",
      "execution_count": 14,
      "metadata": {
        "colab": {
          "base_uri": "https://localhost:8080/"
        },
        "id": "Woob7LKX4IbO",
        "outputId": "41004e8b-4162-434e-b7fd-fd8fb8fe30d1"
      },
      "outputs": [
        {
          "output_type": "stream",
          "name": "stderr",
          "text": [
            "100%|██████████| 160/160 [00:01<00:00, 103.93it/s]\n",
            "100%|██████████| 40/40 [00:00<00:00, 97.59it/s]\n"
          ]
        }
      ],
      "source": [
        "file = open('error.txt', 'w')\n",
        "\n",
        "db = get_spacy_doc(file, train)\n",
        "db.to_disk('train_data.spacy')\n",
        "\n",
        "db = get_spacy_doc(file, test)\n",
        "db.to_disk('test_data.spacy')\n",
        "\n",
        "file.close()"
      ]
    },
    {
      "cell_type": "code",
      "execution_count": 15,
      "metadata": {
        "colab": {
          "base_uri": "https://localhost:8080/"
        },
        "id": "kHZDfP-z4P4B",
        "outputId": "198a5049-ee85-4f75-9342-1e83d612d1f7"
      },
      "outputs": [
        {
          "output_type": "execute_result",
          "data": {
            "text/plain": [
              "40"
            ]
          },
          "metadata": {},
          "execution_count": 15
        }
      ],
      "source": [
        "len(db.tokens)"
      ]
    },
    {
      "cell_type": "code",
      "execution_count": 16,
      "metadata": {
        "colab": {
          "base_uri": "https://localhost:8080/"
        },
        "id": "TpOQk5hb4Ywr",
        "outputId": "9d57ce9c-56d1-49f7-952f-c16bab4658ff"
      },
      "outputs": [
        {
          "output_type": "stream",
          "name": "stdout",
          "text": [
            "\u001b[38;5;2m✔ Created output directory: output\u001b[0m\n",
            "\u001b[38;5;4mℹ Saving to output directory: output\u001b[0m\n",
            "\u001b[38;5;4mℹ Using GPU: 0\u001b[0m\n",
            "\u001b[1m\n",
            "=========================== Initializing pipeline ===========================\u001b[0m\n",
            "[2023-01-27 06:02:31,033] [INFO] Set up nlp object from config\n",
            "INFO:spacy:Set up nlp object from config\n",
            "[2023-01-27 06:02:31,045] [INFO] Pipeline: ['transformer', 'ner']\n",
            "INFO:spacy:Pipeline: ['transformer', 'ner']\n",
            "[2023-01-27 06:02:31,049] [INFO] Created vocabulary\n",
            "INFO:spacy:Created vocabulary\n",
            "[2023-01-27 06:02:31,050] [INFO] Finished initializing nlp object\n",
            "INFO:spacy:Finished initializing nlp object\n",
            "Downloading (…)lve/main/config.json: 100% 481/481 [00:00<00:00, 82.9kB/s]\n",
            "Downloading (…)olve/main/vocab.json: 100% 899k/899k [00:00<00:00, 2.87MB/s]\n",
            "Downloading (…)olve/main/merges.txt: 100% 456k/456k [00:00<00:00, 1.84MB/s]\n",
            "Downloading (…)/main/tokenizer.json: 100% 1.36M/1.36M [00:00<00:00, 3.65MB/s]\n",
            "Downloading (…)\"pytorch_model.bin\";: 100% 501M/501M [00:02<00:00, 203MB/s]\n",
            "Some weights of the model checkpoint at roberta-base were not used when initializing RobertaModel: ['lm_head.layer_norm.bias', 'lm_head.dense.bias', 'lm_head.dense.weight', 'lm_head.bias', 'lm_head.decoder.weight', 'lm_head.layer_norm.weight']\n",
            "- This IS expected if you are initializing RobertaModel from the checkpoint of a model trained on another task or with another architecture (e.g. initializing a BertForSequenceClassification model from a BertForPreTraining model).\n",
            "- This IS NOT expected if you are initializing RobertaModel from the checkpoint of a model that you expect to be exactly identical (initializing a BertForSequenceClassification model from a BertForSequenceClassification model).\n",
            "[2023-01-27 06:03:07,045] [INFO] Initialized pipeline components: ['transformer', 'ner']\n",
            "INFO:spacy:Initialized pipeline components: ['transformer', 'ner']\n",
            "\u001b[38;5;2m✔ Initialized pipeline\u001b[0m\n",
            "\u001b[1m\n",
            "============================= Training pipeline =============================\u001b[0m\n",
            "\u001b[38;5;4mℹ Pipeline: ['transformer', 'ner']\u001b[0m\n",
            "\u001b[38;5;4mℹ Initial learn rate: 0.0\u001b[0m\n",
            "E    #       LOSS TRANS...  LOSS NER  ENTS_F  ENTS_P  ENTS_R  SCORE \n",
            "---  ------  -------------  --------  ------  ------  ------  ------\n",
            "  0       0        9238.60   1544.73    0.05    0.02    0.93    0.00\n",
            "  3     200      258862.22  63426.23   24.18   44.50   16.60    0.24\n",
            "  6     400       53664.36  23371.02   54.13   52.74   55.60    0.54\n",
            " 10     600        7554.33  20658.82   58.43   52.87   65.30    0.58\n",
            " 13     800        3786.70  16400.05   61.16   65.60   57.28    0.61\n",
            " 16    1000       14473.13  15900.24   58.04   50.27   68.66    0.58\n",
            " 20    1200        6335.75  16012.09   55.03   50.63   60.26    0.55\n",
            " 23    1400        2147.17  13866.18   61.04   62.85   59.33    0.61\n",
            " 26    1600        1674.45  13691.16   60.67   60.33   61.01    0.61\n",
            " 30    1800       13724.17  14133.23   57.78   50.28   67.91    0.58\n",
            " 33    2000         990.39  11869.25   56.70   63.36   51.31    0.57\n",
            " 36    2200        2182.90  11794.43   62.18   63.20   61.19    0.62\n",
            " 40    2400       53996.07  12390.92   60.98   55.71   67.35    0.61\n",
            " 43    2600       30698.33  10659.44   60.40   65.09   56.34    0.60\n",
            " 46    2800       10061.96  10123.75   60.02   66.00   55.04    0.60\n",
            " 50    3000        1680.09   9850.46   61.94   56.55   68.47    0.62\n",
            " 53    3200         228.58   7979.34   62.01   61.16   62.87    0.62\n",
            " 56    3400         948.37   7368.11   61.22   63.89   58.77    0.61\n",
            " 60    3600        1939.73   6911.86   61.21   56.36   66.98    0.61\n",
            " 63    3800        1959.11   5229.37   60.87   57.00   65.30    0.61\n",
            "\u001b[38;5;2m✔ Saved pipeline to output directory\u001b[0m\n",
            "output/model-last\n"
          ]
        }
      ],
      "source": [
        "!python -m spacy train /content/Resumeparsing/data/training/config.cfg --output ./output --paths.train ./train_data.spacy --paths.dev ./test_data.spacy --gpu-id 0"
      ]
    },
    {
      "cell_type": "code",
      "execution_count": 17,
      "metadata": {
        "id": "wORbTT9D4yII"
      },
      "outputs": [],
      "source": [
        "#### MODEL TEST"
      ]
    },
    {
      "cell_type": "code",
      "execution_count": 18,
      "metadata": {
        "id": "HsjRm6Dy4cD9"
      },
      "outputs": [],
      "source": [
        "nlp = spacy.load('/content/output/model-best')"
      ]
    },
    {
      "cell_type": "code",
      "execution_count": 19,
      "metadata": {
        "id": "T7hCbRSUILT8"
      },
      "outputs": [],
      "source": [
        "doc = nlp(\"\"\"\"ENGINEERING LAB TECHNICIAN\n",
        "Career Focus\n",
        "My main objective in seeking employment with Triumph Actuation Systems Inc. is to work in a professional atmosphere where I can utilize my\n",
        "skills and continue to gain experience in the aerospace industry to advance in my career.\n",
        "Professional Experience\n",
        "Engineering Lab Technician Oct 2016 to Current\n",
        "Company Name ï¼​ City , State\n",
        "Responsible for testing various seat structures to meet specific certification requirements. Â\n",
        "Maintain and calibrate test instruments to ensure testing capabilities are maintained.\n",
        "Ensure data is captured and recorded correctly for certification test reports.\n",
        "Duties also dynamic test set-up and static suite testing.\n",
        "Engineering Lab Technician, Sr. Specialist Apr 2012 to Oct 2016\n",
        "Company Name ï¼​ City , State\n",
        "Utilized skills learned from LabView Course 1 training to construct and maintain LabView VI programs.\n",
        "Responsible for fabricating and maintaining hydraulic/electrical test equipment to complete development and qualification programs.\n",
        "Apply engineering principles to operate electrical, mechanical, and hydraulic systems to test pumps, motors, and actuators for aircraft.\n",
        "Work closely with Design Engineers and Lab Management to investigate performance/design issues.\n",
        "Completed Lean Six Sigma/5s training seminar.\n",
        "Assembly/ Test Technician Mar 2007 to Mar 2012\n",
        "Company Name ï¼​ City , State\n",
        "Lead technician overseeing three member crew responsible for maintaining high quality standards in a high volume production environment.\n",
        "Responsible for cargo door system actuators for Boeing 787 aircraft.\n",
        "Experience with hydraulic components that meet military and FAA regulations.\n",
        "Work closely with Engineering Group and Quality Assurance inspectors to resolve problems with development actuators.\"\"\"\"\")\n",
        "for ent in doc.ents:\n",
        "  print(ent.text, \"   ->>>>> \", ent.label_)"
      ]
    },
    {
      "cell_type": "code",
      "source": [
        "doc = nlp('my name is Laxmi Kant Tiwari. I worked at Microsoft. I have 10 years of experience')\n",
        "for ent in doc.ents:\n",
        "    print(ent.text, \"   ->>>>> \", ent.label_)"
      ],
      "metadata": {
        "colab": {
          "base_uri": "https://localhost:8080/"
        },
        "id": "92a7UPCqCedL",
        "outputId": "bddbb852-3147-4ec6-f284-14e73ffa804c"
      },
      "execution_count": 22,
      "outputs": [
        {
          "output_type": "stream",
          "name": "stdout",
          "text": [
            "Laxmi Kant Tiwari    ->>>>>  Name\n",
            "Microsoft    ->>>>>  Companies worked at\n"
          ]
        }
      ]
    },
    {
      "cell_type": "code",
      "execution_count": 23,
      "metadata": {
        "id": "cz-uuEdzIkvu",
        "colab": {
          "base_uri": "https://localhost:8080/"
        },
        "outputId": "da0e0a7d-3413-4d23-9740-7daa7e09ff7b"
      },
      "outputs": [
        {
          "output_type": "stream",
          "name": "stdout",
          "text": [
            "(Laxmi Kant Tiwari, Microsoft) Companies worked at\n"
          ]
        }
      ],
      "source": [
        "print(doc.ents,ent.label_)"
      ]
    },
    {
      "cell_type": "code",
      "execution_count": 24,
      "metadata": {
        "id": "-lUJtDMEItin",
        "colab": {
          "base_uri": "https://localhost:8080/"
        },
        "outputId": "3cfae13c-3e99-4072-caa6-d3c2d3e960d5"
      },
      "outputs": [
        {
          "output_type": "stream",
          "name": "stdout",
          "text": [
            "Looking in indexes: https://pypi.org/simple, https://us-python.pkg.dev/colab-wheels/public/simple/\n",
            "Collecting PyMuPDF\n",
            "  Downloading PyMuPDF-1.21.1-cp38-cp38-manylinux_2_17_x86_64.manylinux2014_x86_64.whl (14.0 MB)\n",
            "\u001b[2K     \u001b[90m━━━━━━━━━━━━━━━━━━━━━━━━━━━━━━━━━━━━━━━━\u001b[0m \u001b[32m14.0/14.0 MB\u001b[0m \u001b[31m84.8 MB/s\u001b[0m eta \u001b[36m0:00:00\u001b[0m\n",
            "\u001b[?25hInstalling collected packages: PyMuPDF\n",
            "Successfully installed PyMuPDF-1.21.1\n"
          ]
        }
      ],
      "source": [
        "!pip install PyMuPDF"
      ]
    },
    {
      "cell_type": "code",
      "execution_count": 25,
      "metadata": {
        "id": "ojDp79tFKBK0"
      },
      "outputs": [],
      "source": [
        "import sys, fitz"
      ]
    },
    {
      "cell_type": "code",
      "execution_count": 28,
      "metadata": {
        "id": "8QJtqdoFKE7V"
      },
      "outputs": [],
      "source": [
        "fname = '/content/Resumeparsing/data/test/Smith Resume.pdf'\n",
        "doc = fitz.open(fname)"
      ]
    },
    {
      "cell_type": "code",
      "execution_count": 29,
      "metadata": {
        "id": "YXB8be0aKGZg"
      },
      "outputs": [],
      "source": [
        " #doc = [page.getText() for page in doc]"
      ]
    },
    {
      "cell_type": "code",
      "execution_count": 30,
      "metadata": {
        "id": "KpSOP8fhKJIv"
      },
      "outputs": [],
      "source": [
        "text = \" \"\n",
        "for page in doc:\n",
        "  text = text + str(page.get_text())"
      ]
    },
    {
      "cell_type": "code",
      "execution_count": 31,
      "metadata": {
        "id": "Cz9O3Ng9KOSN",
        "colab": {
          "base_uri": "https://localhost:8080/",
          "height": 122
        },
        "outputId": "4449292f-91c9-49bd-f1ce-6542339262d4"
      },
      "outputs": [
        {
          "output_type": "execute_result",
          "data": {
            "text/plain": [
              "'\"ENGINEERING LAB TECHNICIAN\\nCareer Focus\\nMy main objective in seeking employment with Triumph Actuation Systems Inc. is to work in a professional atmosphere where I can utilize my\\nskills and continue to gain experience in the aerospace industry to advance in my career.\\nProfessional Experience\\nEngineering Lab Technician Oct 2016 to Current\\nCompany Name ï¼\\u200b City , State\\nResponsible for testing various seat structures to meet specific certification requirements. Â\\nMaintain and calibrate test instruments to ensure testing capabilities are maintained.\\nEnsure data is captured and recorded correctly for certification test reports.\\nDuties also dynamic test set-up and static suite testing.\\nEngineering Lab Technician, Sr. Specialist Apr 2012 to Oct 2016\\nCompany Name ï¼\\u200b City , State\\nUtilized skills learned from LabView Course 1 training to construct and maintain LabView VI programs.\\nResponsible for fabricating and maintaining hydraulic/electrical test equipment to complete development and qualification programs.\\nApply engineering principles to operate electrical, mechanical, and hydraulic systems to test pumps, motors, and actuators for aircraft.\\nWork closely with Design Engineers and Lab Management to investigate performance/design issues.\\nCompleted Lean Six Sigma/5s training seminar.\\nAssembly/ Test Technician Mar 2007 to Mar 2012\\nCompany Name ï¼\\u200b City , State\\nLead technician overseeing three member crew responsible for maintaining high quality standards in a high volume production environment.\\nResponsible for cargo door system actuators for Boeing 787 aircraft.\\nExperience with hydraulic components that meet military and FAA regulations.\\nWork closely with Engineering Group and Quality Assurance inspectors to resolve problems with development actuators.'"
            ],
            "application/vnd.google.colaboratory.intrinsic+json": {
              "type": "string"
            }
          },
          "metadata": {},
          "execution_count": 31
        }
      ],
      "source": [
        "text =\"\"\"\"ENGINEERING LAB TECHNICIAN\n",
        "Career Focus\n",
        "My main objective in seeking employment with Triumph Actuation Systems Inc. is to work in a professional atmosphere where I can utilize my\n",
        "skills and continue to gain experience in the aerospace industry to advance in my career.\n",
        "Professional Experience\n",
        "Engineering Lab Technician Oct 2016 to Current\n",
        "Company Name ï¼​ City , State\n",
        "Responsible for testing various seat structures to meet specific certification requirements. Â\n",
        "Maintain and calibrate test instruments to ensure testing capabilities are maintained.\n",
        "Ensure data is captured and recorded correctly for certification test reports.\n",
        "Duties also dynamic test set-up and static suite testing.\n",
        "Engineering Lab Technician, Sr. Specialist Apr 2012 to Oct 2016\n",
        "Company Name ï¼​ City , State\n",
        "Utilized skills learned from LabView Course 1 training to construct and maintain LabView VI programs.\n",
        "Responsible for fabricating and maintaining hydraulic/electrical test equipment to complete development and qualification programs.\n",
        "Apply engineering principles to operate electrical, mechanical, and hydraulic systems to test pumps, motors, and actuators for aircraft.\n",
        "Work closely with Design Engineers and Lab Management to investigate performance/design issues.\n",
        "Completed Lean Six Sigma/5s training seminar.\n",
        "Assembly/ Test Technician Mar 2007 to Mar 2012\n",
        "Company Name ï¼​ City , State\n",
        "Lead technician overseeing three member crew responsible for maintaining high quality standards in a high volume production environment.\n",
        "Responsible for cargo door system actuators for Boeing 787 aircraft.\n",
        "Experience with hydraulic components that meet military and FAA regulations.\n",
        "Work closely with Engineering Group and Quality Assurance inspectors to resolve problems with development actuators.\"\"\"\"\"\n",
        "text\n"
      ]
    },
    {
      "cell_type": "code",
      "execution_count": 32,
      "metadata": {
        "id": "FTsQ92r8KPed"
      },
      "outputs": [],
      "source": [
        "text = text.strip()"
      ]
    },
    {
      "cell_type": "code",
      "execution_count": 33,
      "metadata": {
        "id": "OXWwJUtuKRno"
      },
      "outputs": [],
      "source": [
        "text = ' '.join(text.split())"
      ]
    },
    {
      "cell_type": "code",
      "execution_count": 34,
      "metadata": {
        "id": "uRF21fjyKTJN",
        "colab": {
          "base_uri": "https://localhost:8080/",
          "height": 122
        },
        "outputId": "d8d17908-2beb-4857-e79f-a25e0c06cbe6"
      },
      "outputs": [
        {
          "output_type": "execute_result",
          "data": {
            "text/plain": [
              "'\"ENGINEERING LAB TECHNICIAN Career Focus My main objective in seeking employment with Triumph Actuation Systems Inc. is to work in a professional atmosphere where I can utilize my skills and continue to gain experience in the aerospace industry to advance in my career. Professional Experience Engineering Lab Technician Oct 2016 to Current Company Name ï¼\\u200b City , State Responsible for testing various seat structures to meet specific certification requirements. Â Maintain and calibrate test instruments to ensure testing capabilities are maintained. Ensure data is captured and recorded correctly for certification test reports. Duties also dynamic test set-up and static suite testing. Engineering Lab Technician, Sr. Specialist Apr 2012 to Oct 2016 Company Name ï¼\\u200b City , State Utilized skills learned from LabView Course 1 training to construct and maintain LabView VI programs. Responsible for fabricating and maintaining hydraulic/electrical test equipment to complete development and qualification programs. Apply engineering principles to operate electrical, mechanical, and hydraulic systems to test pumps, motors, and actuators for aircraft. Work closely with Design Engineers and Lab Management to investigate performance/design issues. Completed Lean Six Sigma/5s training seminar. Assembly/ Test Technician Mar 2007 to Mar 2012 Company Name ï¼\\u200b City , State Lead technician overseeing three member crew responsible for maintaining high quality standards in a high volume production environment. Responsible for cargo door system actuators for Boeing 787 aircraft. Experience with hydraulic components that meet military and FAA regulations. Work closely with Engineering Group and Quality Assurance inspectors to resolve problems with development actuators.'"
            ],
            "application/vnd.google.colaboratory.intrinsic+json": {
              "type": "string"
            }
          },
          "metadata": {},
          "execution_count": 34
        }
      ],
      "source": [
        "text"
      ]
    },
    {
      "cell_type": "code",
      "execution_count": 35,
      "metadata": {
        "id": "lu22bxNLKUkt",
        "colab": {
          "base_uri": "https://localhost:8080/"
        },
        "outputId": "fae4faea-95c6-4215-a120-8940015f9b5f"
      },
      "outputs": [
        {
          "output_type": "stream",
          "name": "stdout",
          "text": [
            "Engineering Lab Technician    ------->>>>>  Designation\n"
          ]
        }
      ],
      "source": [
        "doc = nlp(text)\n",
        "for ent in doc.ents:\n",
        "  print(ent.text, \"   ------->>>>> \", ent.label_)"
      ]
    },
    {
      "cell_type": "code",
      "execution_count": 37,
      "metadata": {
        "id": "-pRVmywDKWMz",
        "colab": {
          "base_uri": "https://localhost:8080/"
        },
        "outputId": "91c96786-b9b3-4a5e-afde-aabb3def090d"
      },
      "outputs": [
        {
          "output_type": "stream",
          "name": "stdout",
          "text": [
            "  adding: content/Resumeparsing/ (stored 0%)\n",
            "  adding: content/Resumeparsing/Resume_Parsing_with_Spacy.ipynb (deflated 75%)\n",
            "  adding: content/Resumeparsing/README.md (stored 0%)\n",
            "  adding: content/Resumeparsing/.git/ (stored 0%)\n",
            "  adding: content/Resumeparsing/.git/refs/ (stored 0%)\n",
            "  adding: content/Resumeparsing/.git/refs/heads/ (stored 0%)\n",
            "  adding: content/Resumeparsing/.git/refs/heads/main (stored 0%)\n",
            "  adding: content/Resumeparsing/.git/refs/tags/ (stored 0%)\n",
            "  adding: content/Resumeparsing/.git/refs/remotes/ (stored 0%)\n",
            "  adding: content/Resumeparsing/.git/refs/remotes/origin/ (stored 0%)\n",
            "  adding: content/Resumeparsing/.git/refs/remotes/origin/HEAD (stored 0%)\n",
            "  adding: content/Resumeparsing/.git/branches/ (stored 0%)\n",
            "  adding: content/Resumeparsing/.git/info/ (stored 0%)\n",
            "  adding: content/Resumeparsing/.git/info/exclude (deflated 28%)\n",
            "  adding: content/Resumeparsing/.git/HEAD (stored 0%)\n",
            "  adding: content/Resumeparsing/.git/objects/ (stored 0%)\n",
            "  adding: content/Resumeparsing/.git/objects/27/ (stored 0%)\n",
            "  adding: content/Resumeparsing/.git/objects/27/bfda0caf1a116d1a3ceca455f41ba3907bf94f (stored 0%)\n",
            "  adding: content/Resumeparsing/.git/objects/27/e26059b827423ea1ed151809b6e088fcb3bd14 (stored 0%)\n",
            "  adding: content/Resumeparsing/.git/objects/05/ (stored 0%)\n",
            "  adding: content/Resumeparsing/.git/objects/05/79aab151e7a50a97b13e8787d87d0f2a716abe (stored 0%)\n",
            "  adding: content/Resumeparsing/.git/objects/3b/ (stored 0%)\n",
            "  adding: content/Resumeparsing/.git/objects/3b/6b085f0fe76a510bd3a8e7e73820652dc8302b (stored 0%)\n",
            "  adding: content/Resumeparsing/.git/objects/d4/ (stored 0%)\n",
            "  adding: content/Resumeparsing/.git/objects/d4/4e97bb46e4f4de5849f212748693302e5d4be5 (stored 0%)\n",
            "  adding: content/Resumeparsing/.git/objects/57/ (stored 0%)\n",
            "  adding: content/Resumeparsing/.git/objects/57/26f93bc078432e21fb7223c8c94584c6d0ddfe (deflated 0%)\n",
            "  adding: content/Resumeparsing/.git/objects/1a/ (stored 0%)\n",
            "  adding: content/Resumeparsing/.git/objects/1a/24a52902c7ca6921a851ebb081c5e87e9846bc (stored 0%)\n",
            "  adding: content/Resumeparsing/.git/objects/1a/4a4a8775816b0b0155cc87c8c6f0c78b1fd096 (stored 0%)\n",
            "  adding: content/Resumeparsing/.git/objects/53/ (stored 0%)\n",
            "  adding: content/Resumeparsing/.git/objects/53/e2ce1a52619aad3b277bc987610eede46f3789 (stored 0%)\n",
            "  adding: content/Resumeparsing/.git/objects/53/8bafc4b24adbf9a9fc6d1ac164197bbae64c51 (deflated 3%)\n",
            "  adding: content/Resumeparsing/.git/objects/c9/ (stored 0%)\n",
            "  adding: content/Resumeparsing/.git/objects/c9/8632750bbe1517caf51372a91815adee600666 (deflated 0%)\n",
            "  adding: content/Resumeparsing/.git/objects/pack/ (stored 0%)\n",
            "  adding: content/Resumeparsing/.git/objects/b6/ (stored 0%)\n",
            "  adding: content/Resumeparsing/.git/objects/b6/077878cc6fc132076b72b3f807c5729247a7d8 (deflated 0%)\n",
            "  adding: content/Resumeparsing/.git/objects/20/ (stored 0%)\n",
            "  adding: content/Resumeparsing/.git/objects/20/bbec2213d91c6da30f835590c32b9c901d8890 (stored 0%)\n",
            "  adding: content/Resumeparsing/.git/objects/f5/ (stored 0%)\n",
            "  adding: content/Resumeparsing/.git/objects/f5/fb726b4b17adedc4a3d0a7d9502971e5d1faa9 (stored 0%)\n",
            "  adding: content/Resumeparsing/.git/objects/3a/ (stored 0%)\n",
            "  adding: content/Resumeparsing/.git/objects/3a/3751c5fab1bcfc7e5c176d486b41292588a995 (stored 0%)\n",
            "  adding: content/Resumeparsing/.git/objects/90/ (stored 0%)\n",
            "  adding: content/Resumeparsing/.git/objects/90/9372e58e75409bcaa2ccb156519c939b61aec8 (stored 0%)\n",
            "  adding: content/Resumeparsing/.git/objects/info/ (stored 0%)\n",
            "  adding: content/Resumeparsing/.git/objects/37/ (stored 0%)\n",
            "  adding: content/Resumeparsing/.git/objects/37/1cdeb08923ce3d875b52537b03aeb9dafa0c36 (deflated 0%)\n",
            "  adding: content/Resumeparsing/.git/objects/5b/ (stored 0%)\n",
            "  adding: content/Resumeparsing/.git/objects/5b/2acc867281c990842d313284722f4de9eb0bda (stored 0%)\n",
            "  adding: content/Resumeparsing/.git/objects/75/ (stored 0%)\n",
            "  adding: content/Resumeparsing/.git/objects/75/c3bc7c129c3363ad40360cf5a262c0b2e228fb (stored 0%)\n",
            "  adding: content/Resumeparsing/.git/objects/be/ (stored 0%)\n",
            "  adding: content/Resumeparsing/.git/objects/be/5f2e030efd0c88652b9541fc0087b32ed85bfc (stored 0%)\n",
            "  adding: content/Resumeparsing/.git/objects/44/ (stored 0%)\n",
            "  adding: content/Resumeparsing/.git/objects/44/9ef1d203a1a33fcabd80ab92d9cc0023a5d46a (stored 0%)\n",
            "  adding: content/Resumeparsing/.git/objects/eb/ (stored 0%)\n",
            "  adding: content/Resumeparsing/.git/objects/eb/adaa58b83a76a8ce0dbf1b5a75d8fb4aa559ad (stored 0%)\n",
            "  adding: content/Resumeparsing/.git/objects/54/ (stored 0%)\n",
            "  adding: content/Resumeparsing/.git/objects/54/16677bc7dab0c8bec3f5bf44d7d28b4ff73b13 (stored 0%)\n",
            "  adding: content/Resumeparsing/.git/objects/e9/ (stored 0%)\n",
            "  adding: content/Resumeparsing/.git/objects/e9/079cd9730934591f96191267a724f5bf06f82d (stored 0%)\n",
            "  adding: content/Resumeparsing/.git/objects/08/ (stored 0%)\n",
            "  adding: content/Resumeparsing/.git/objects/08/6fbb434339401481c4a1eac1047f1b49ebf4bb (stored 0%)\n",
            "  adding: content/Resumeparsing/.git/objects/6f/ (stored 0%)\n",
            "  adding: content/Resumeparsing/.git/objects/6f/d07fa7119c9a5da98f7a2f493fa243de3b84cc (stored 0%)\n",
            "  adding: content/Resumeparsing/.git/objects/25/ (stored 0%)\n",
            "  adding: content/Resumeparsing/.git/objects/25/87ab1e5b101f2ca3aaa267af6bde295ad27ae2 (stored 0%)\n",
            "  adding: content/Resumeparsing/.git/objects/d3/ (stored 0%)\n",
            "  adding: content/Resumeparsing/.git/objects/d3/28cf89d87e41e18e4c6b33a3df7b36fa7c3695 (deflated 1%)\n",
            "  adding: content/Resumeparsing/.git/objects/88/ (stored 0%)\n",
            "  adding: content/Resumeparsing/.git/objects/88/3a638ce3f4400f9dbbc4312cc7c2405fd9912f (deflated 0%)\n",
            "  adding: content/Resumeparsing/.git/objects/7c/ (stored 0%)\n",
            "  adding: content/Resumeparsing/.git/objects/7c/38be6c4addf78b255b8d3630883466a57b00e1 (stored 0%)\n",
            "  adding: content/Resumeparsing/.git/objects/73/ (stored 0%)\n",
            "  adding: content/Resumeparsing/.git/objects/73/0ace77357a49a095ed3735c4d62f965ccd2099 (deflated 0%)\n",
            "  adding: content/Resumeparsing/.git/objects/13/ (stored 0%)\n",
            "  adding: content/Resumeparsing/.git/objects/13/d7c6ba61697b7fc4b6cadb0f97d2fcdd1b8433 (stored 0%)\n",
            "  adding: content/Resumeparsing/.git/objects/ce/ (stored 0%)\n",
            "  adding: content/Resumeparsing/.git/objects/ce/7b748f57d3e20002e864132790d7890837b0b6 (stored 0%)\n",
            "  adding: content/Resumeparsing/.git/objects/23/ (stored 0%)\n",
            "  adding: content/Resumeparsing/.git/objects/23/c6b94d5a021d0fab30b03ca9661014e522eed7 (stored 0%)\n",
            "  adding: content/Resumeparsing/.git/objects/28/ (stored 0%)\n",
            "  adding: content/Resumeparsing/.git/objects/28/22a54787cdc62e3d95565e2dbc5a9558e04b7d (stored 0%)\n",
            "  adding: content/Resumeparsing/.git/objects/2c/ (stored 0%)\n",
            "  adding: content/Resumeparsing/.git/objects/2c/714204309a7446164b643b7ae71674f472b745 (stored 0%)\n",
            "  adding: content/Resumeparsing/.git/objects/0b/ (stored 0%)\n",
            "  adding: content/Resumeparsing/.git/objects/0b/ab0a031aab63b2cfc8a05269780fee127e0482 (deflated 0%)\n",
            "  adding: content/Resumeparsing/.git/objects/b9/ (stored 0%)\n",
            "  adding: content/Resumeparsing/.git/objects/b9/bc6e64e4454071d0b9b6fc47b6eec11367e700 (stored 0%)\n",
            "  adding: content/Resumeparsing/.git/description (deflated 14%)\n",
            "  adding: content/Resumeparsing/.git/index (deflated 44%)\n",
            "  adding: content/Resumeparsing/.git/config (deflated 31%)\n",
            "  adding: content/Resumeparsing/.git/hooks/ (stored 0%)\n",
            "  adding: content/Resumeparsing/.git/hooks/pre-merge-commit.sample (deflated 39%)\n",
            "  adding: content/Resumeparsing/.git/hooks/pre-push.sample (deflated 50%)\n",
            "  adding: content/Resumeparsing/.git/hooks/prepare-commit-msg.sample (deflated 50%)\n",
            "  adding: content/Resumeparsing/.git/hooks/post-update.sample (deflated 27%)\n",
            "  adding: content/Resumeparsing/.git/hooks/update.sample (deflated 68%)\n",
            "  adding: content/Resumeparsing/.git/hooks/pre-applypatch.sample (deflated 38%)\n",
            "  adding: content/Resumeparsing/.git/hooks/pre-commit.sample (deflated 45%)\n",
            "  adding: content/Resumeparsing/.git/hooks/pre-rebase.sample (deflated 59%)\n",
            "  adding: content/Resumeparsing/.git/hooks/pre-receive.sample (deflated 40%)\n",
            "  adding: content/Resumeparsing/.git/hooks/applypatch-msg.sample (deflated 42%)\n",
            "  adding: content/Resumeparsing/.git/hooks/fsmonitor-watchman.sample (deflated 52%)\n",
            "  adding: content/Resumeparsing/.git/hooks/commit-msg.sample (deflated 44%)\n",
            "  adding: content/Resumeparsing/.git/logs/ (stored 0%)\n",
            "  adding: content/Resumeparsing/.git/logs/refs/ (stored 0%)\n",
            "  adding: content/Resumeparsing/.git/logs/refs/heads/ (stored 0%)\n",
            "  adding: content/Resumeparsing/.git/logs/refs/heads/main (deflated 27%)\n",
            "  adding: content/Resumeparsing/.git/logs/refs/remotes/ (stored 0%)\n",
            "  adding: content/Resumeparsing/.git/logs/refs/remotes/origin/ (stored 0%)\n",
            "  adding: content/Resumeparsing/.git/logs/refs/remotes/origin/HEAD (deflated 27%)\n",
            "  adding: content/Resumeparsing/.git/logs/HEAD (deflated 27%)\n",
            "  adding: content/Resumeparsing/.git/packed-refs (deflated 9%)\n",
            "  adding: content/Resumeparsing/data/ (stored 0%)\n",
            "  adding: content/Resumeparsing/data/test/ (stored 0%)\n",
            "  adding: content/Resumeparsing/data/test/Smith Resume.docx (deflated 16%)\n",
            "  adding: content/Resumeparsing/data/test/Alice Clark CV.pdf (deflated 7%)\n",
            "  adding: content/Resumeparsing/data/test/Alice Clark CV.docx (deflated 18%)\n",
            "  adding: content/Resumeparsing/data/test/Alice Clark CV.txt (deflated 46%)\n",
            "  adding: content/Resumeparsing/data/test/Smith Resume.pdf (deflated 13%)\n",
            "  adding: content/Resumeparsing/data/training/ (stored 0%)\n",
            "  adding: content/Resumeparsing/data/training/train_data.json (deflated 69%)\n",
            "  adding: content/Resumeparsing/data/training/config.cfg (deflated 61%)\n",
            "  adding: content/Resumeparsing/data/training/base_config.cfg (deflated 56%)\n",
            "  adding: content/Resumeparsing/data/training/train_data.pkl (deflated 66%)\n",
            "  adding: content/Resumeparsing/nlp_model/ (stored 0%)\n",
            "  adding: content/Resumeparsing/nlp_model/ner/ (stored 0%)\n",
            "  adding: content/Resumeparsing/nlp_model/ner/model (deflated 8%)\n",
            "  adding: content/Resumeparsing/nlp_model/ner/moves (deflated 76%)\n",
            "  adding: content/Resumeparsing/nlp_model/ner/cfg (deflated 49%)\n",
            "  adding: content/Resumeparsing/nlp_model/meta.json (deflated 39%)\n",
            "  adding: content/Resumeparsing/nlp_model/vocab/ (stored 0%)\n",
            "  adding: content/Resumeparsing/nlp_model/vocab/strings.json (deflated 74%)\n",
            "  adding: content/Resumeparsing/nlp_model/vocab/vectors (deflated 45%)\n",
            "  adding: content/Resumeparsing/nlp_model/vocab/lexemes.bin (deflated 72%)\n",
            "  adding: content/Resumeparsing/nlp_model/vocab/lookups.bin (deflated 45%)\n",
            "  adding: content/Resumeparsing/nlp_model/vocab/key2row (stored 0%)\n",
            "  adding: content/Resumeparsing/nlp_model/tokenizer (deflated 82%)\n"
          ]
        }
      ],
      "source": [
        "!zip -r /content/Resumeparsing.zip /content/Resumeparsing"
      ]
    },
    {
      "cell_type": "code",
      "execution_count": null,
      "metadata": {
        "id": "QHT3VJcNMIr6"
      },
      "outputs": [],
      "source": [
        "!zip -r /content.zip /content"
      ]
    },
    {
      "cell_type": "code",
      "execution_count": 38,
      "metadata": {
        "id": "A7c5J-wJMXS1",
        "colab": {
          "base_uri": "https://localhost:8080/"
        },
        "outputId": "0d05a448-b99d-42c2-cfc0-8fa32e8e6087"
      },
      "outputs": [
        {
          "output_type": "stream",
          "name": "stdout",
          "text": [
            "  adding: content/output/ (stored 0%)\n",
            "  adding: content/output/model-best/ (stored 0%)\n",
            "  adding: content/output/model-best/ner/ (stored 0%)\n",
            "  adding: content/output/model-best/ner/model (deflated 8%)\n",
            "  adding: content/output/model-best/ner/moves (deflated 74%)\n",
            "  adding: content/output/model-best/ner/cfg (deflated 33%)\n",
            "  adding: content/output/model-best/meta.json (deflated 66%)\n",
            "  adding: content/output/model-best/config.cfg (deflated 61%)\n",
            "  adding: content/output/model-best/vocab/ (stored 0%)\n",
            "  adding: content/output/model-best/vocab/vectors.cfg (stored 0%)\n",
            "  adding: content/output/model-best/vocab/strings.json (deflated 76%)\n",
            "  adding: content/output/model-best/vocab/vectors (deflated 45%)\n",
            "  adding: content/output/model-best/vocab/lookups.bin (stored 0%)\n",
            "  adding: content/output/model-best/vocab/key2row (stored 0%)\n",
            "  adding: content/output/model-best/tokenizer (deflated 81%)\n",
            "  adding: content/output/model-best/transformer/ (stored 0%)\n",
            "  adding: content/output/model-best/transformer/model (deflated 13%)\n",
            "  adding: content/output/model-best/transformer/cfg (stored 0%)\n",
            "  adding: content/output/model-last/ (stored 0%)\n",
            "  adding: content/output/model-last/ner/ (stored 0%)\n",
            "  adding: content/output/model-last/ner/model (deflated 8%)\n",
            "  adding: content/output/model-last/ner/moves (deflated 74%)\n",
            "  adding: content/output/model-last/ner/cfg (deflated 33%)\n",
            "  adding: content/output/model-last/meta.json (deflated 66%)\n",
            "  adding: content/output/model-last/config.cfg (deflated 61%)\n",
            "  adding: content/output/model-last/vocab/ (stored 0%)\n",
            "  adding: content/output/model-last/vocab/vectors.cfg (stored 0%)\n",
            "  adding: content/output/model-last/vocab/strings.json (deflated 76%)\n",
            "  adding: content/output/model-last/vocab/vectors (deflated 45%)\n",
            "  adding: content/output/model-last/vocab/lookups.bin (stored 0%)\n",
            "  adding: content/output/model-last/vocab/key2row (stored 0%)\n",
            "  adding: content/output/model-last/tokenizer (deflated 81%)\n",
            "  adding: content/output/model-last/transformer/ (stored 0%)\n",
            "  adding: content/output/model-last/transformer/model (deflated 13%)\n",
            "  adding: content/output/model-last/transformer/cfg (stored 0%)\n"
          ]
        }
      ],
      "source": [
        "!zip -r /content/output.zip /content/output"
      ]
    },
    {
      "cell_type": "code",
      "execution_count": null,
      "metadata": {
        "id": "LQOk7_SoM_9O"
      },
      "outputs": [],
      "source": [
        "!zip -r /content/error.txt.zip /content/error.txt\n",
        "!zip -r /content/test_data.spacy.zip /content/test_data.spacy\n",
        "!zip -r /content/train_data.spacy.zip /content/train_data.spacy"
      ]
    },
    {
      "cell_type": "code",
      "execution_count": null,
      "metadata": {
        "id": "HERZ4GW0NWZq"
      },
      "outputs": [],
      "source": []
    }
  ],
  "metadata": {
    "accelerator": "TPU",
    "colab": {
      "provenance": [],
      "authorship_tag": "ABX9TyM5dNUjMYCD3T3bMsPLntqI",
      "include_colab_link": true
    },
    "gpuClass": "standard",
    "kernelspec": {
      "display_name": "Python 3",
      "name": "python3"
    },
    "language_info": {
      "name": "python"
    }
  },
  "nbformat": 4,
  "nbformat_minor": 0
}